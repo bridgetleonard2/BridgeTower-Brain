{
 "cells": [
  {
   "cell_type": "code",
   "execution_count": 1,
   "metadata": {},
   "outputs": [],
   "source": [
    "import numpy as np\n",
    "import torch\n",
    "import os\n",
    "from scipy.signal import resample"
   ]
  },
  {
   "cell_type": "markdown",
   "metadata": {},
   "source": [
    "# Part 4: Voxelwise Encoding Models"
   ]
  },
  {
   "cell_type": "markdown",
   "metadata": {},
   "source": [
    "Now that we have our stimuli features from the BridgeTower model, we can use them to predict brain responses. To do this, we will need to load in our fMRI data.\n",
    "To start we will be using sub1 from Popham et al 2021"
   ]
  },
  {
   "cell_type": "markdown",
   "metadata": {},
   "source": [
    "## Vision encoding model"
   ]
  },
  {
   "cell_type": "markdown",
   "metadata": {},
   "source": [
    "### 1 Load fMRI data"
   ]
  },
  {
   "cell_type": "code",
   "execution_count": 2,
   "metadata": {},
   "outputs": [],
   "source": [
    "s1_movie_train = np.load(\"data/fmri_data/moviedata/S1/train.npy\")"
   ]
  },
  {
   "cell_type": "code",
   "execution_count": 3,
   "metadata": {},
   "outputs": [
    {
     "data": {
      "text/plain": [
       "(3600, 31, 100, 100)"
      ]
     },
     "execution_count": 3,
     "metadata": {},
     "output_type": "execute_result"
    }
   ],
   "source": [
    "s1_movie_train.shape"
   ]
  },
  {
   "cell_type": "markdown",
   "metadata": {},
   "source": [
    "The data is organized as such:\n",
    "\n",
    "`moviedata`: Inside this folder, there are subfolders for each participant’s data as well as one folder for the stimuli\n",
    "\n",
    "Within each partcipant’s folder, there is a train.npy and a test.npy file, which contain the brain data for the training and testing data for the models. The shape of each of these is *[n_TR, z, x, y]*, and the last three dimensions should be flattened in order to match the shape of the vertex to voxel mappings in the mappers folder. Data that is located outside of the cortical mask is indicated by np.nan values.\n",
    "The shape of the data in the stimuli folder is [n_TR, n_features]. The features dimension includes the motion energy features (N=2139), which are then followed by the semantic features (N=985)."
   ]
  },
  {
   "cell_type": "code",
   "execution_count": 4,
   "metadata": {},
   "outputs": [],
   "source": [
    "mask = ~np.isnan(s1_movie_train)\n",
    "\n",
    "# Apply the mask and then flatten\n",
    "# This will keep only the non-NaN values\n",
    "s1_movie_fmri = s1_movie_train[mask].reshape(s1_movie_train.shape[0], -1)"
   ]
  },
  {
   "cell_type": "code",
   "execution_count": 5,
   "metadata": {},
   "outputs": [
    {
     "data": {
      "text/plain": [
       "(3600, 81111)"
      ]
     },
     "execution_count": 5,
     "metadata": {},
     "output_type": "execute_result"
    }
   ],
   "source": [
    "s1_movie_fmri.shape"
   ]
  },
  {
   "cell_type": "markdown",
   "metadata": {},
   "source": [
    "### 2 Load in feature vectors"
   ]
  },
  {
   "cell_type": "code",
   "execution_count": 13,
   "metadata": {},
   "outputs": [],
   "source": [
    "# movie data\n",
    "train00 = np.load(\"results/feature_vectors/movie/train_00_data.npy\")\n",
    "train01 = np.load(\"results/feature_vectors/movie/train_01_data.npy\")\n",
    "train02 = np.load(\"results/feature_vectors/movie/train_02_data.npy\")\n",
    "train03 = np.load(\"results/feature_vectors/movie/train_03_data.npy\")\n",
    "train04 = np.load(\"results/feature_vectors/movie/train_04_data.npy\")\n",
    "train05 = np.load(\"results/feature_vectors/movie/train_05_data.npy\")\n",
    "train06 = np.load(\"results/feature_vectors/movie/train_06_data.npy\")\n",
    "train07 = np.load(\"results/feature_vectors/movie/train_07_data.npy\")\n",
    "train08 = np.load(\"results/feature_vectors/movie/train_08_data.npy\")\n",
    "train09 = np.load(\"results/feature_vectors/movie/train_09_data.npy\")\n",
    "train10 = np.load(\"results/feature_vectors/movie/train_10_data.npy\")\n",
    "train11 = np.load(\"results/feature_vectors/movie/train_11_data.npy\")"
   ]
  },
  {
   "cell_type": "code",
   "execution_count": 14,
   "metadata": {},
   "outputs": [
    {
     "data": {
      "text/plain": [
       "(3870, 768)"
      ]
     },
     "execution_count": 14,
     "metadata": {},
     "output_type": "execute_result"
    }
   ],
   "source": [
    "# We need to combine all the training vectors so that they correspond to the fmri training dataset\n",
    "movie_features = np.vstack((train00, train01, train02, train03, train04, train05, train06, train07, train08, train09, train10, train11))\n",
    "movie_features.shape"
   ]
  },
  {
   "cell_type": "markdown",
   "metadata": {},
   "source": [
    "### 3 Voxelwise Encoding Model for Movie Data\n",
    "We want to create a voxelwise encoding model that captures the relationship between stimuli features from bridgetower and the fmri responses. \n",
    "\n",
    "Since our movie data was create with the same temporal alignment (TR = 2) as our fMRI data, we do not need to do any resampling."
   ]
  },
  {
   "cell_type": "markdown",
   "metadata": {},
   "source": [
    "#### 3.1 Finite impulse response model\n",
    "Understanding the Delays: fMRI responses to stimuli are not instantaneous but follow the hemodynamic response function (HRF), which peaks around 4-6 seconds after the stimulus. By selecting delays of 2, 4, 6, and 8 seconds, you're aiming to capture the rise, peak, and fall of this hemodynamic response relative to your features."
   ]
  },
  {
   "cell_type": "code",
   "execution_count": 18,
   "metadata": {},
   "outputs": [],
   "source": [
    "# Assuming features is your (3600, 768) feature data\n",
    "# And TR (time between scans) is 2 seconds\n",
    "delays = [2, 4, 6, 8]  # Delays in seconds\n",
    "shifted_features_list = []\n",
    "\n",
    "for delay in delays:\n",
    "    shift_amount = delay // 2  # Assuming TR is 2 seconds\n",
    "    shifted = np.roll(movie_features, shift_amount, axis=0)\n",
    "    # Optionally, handle edge effects here (e.g., zero-padding or trimming)\n",
    "    shifted_features_list.append(shifted)\n",
    "\n",
    "# Stack the shifted arrays to create a 3D array\n",
    "shifted_features_3d = np.stack(shifted_features_list, axis=-1)"
   ]
  },
  {
   "cell_type": "markdown",
   "metadata": {},
   "source": [
    "#### 3.2 Linear model"
   ]
  },
  {
   "cell_type": "code",
   "execution_count": 19,
   "metadata": {},
   "outputs": [],
   "source": [
    "# We will be using L2-regularized linear regression\n",
    "from sklearn.linear_model import RidgeCV\n",
    "from sklearn.model_selection import KFold"
   ]
  },
  {
   "cell_type": "markdown",
   "metadata": {},
   "source": [
    "For each of the 81111 vertices, we want to calculate it's relationship with the 4*768 delayed features. Where k=768 and m is our vertex of interest:\n",
    "\n",
    "`m = 4k * beta`\n",
    "\n",
    "So, after running regression, we should have a matrix of m # of rows and 4k # of columns, where each cell contains the beta values or linear weights on the 4k delayed features for each voxel.\n",
    "\n",
    "We are told in the dataset that data that is located outside of the cortical mask is indicated by np.nan values so we should ignore these in our regression"
   ]
  },
  {
   "cell_type": "code",
   "execution_count": 20,
   "metadata": {},
   "outputs": [],
   "source": [
    "# Assuming 'features_shifted' is your 3D array (time points x features x delays)\n",
    "# And 'fmri_data' is your 2D fMRI data (time points x voxels)\n",
    "\n",
    "# Reshape the feature data for regression\n",
    "n_time_points, n_features, n_delays = shifted_features_3d.shape\n",
    "features_reshaped = shifted_features_3d.reshape(n_time_points, n_features * n_delays)"
   ]
  },
  {
   "cell_type": "code",
   "execution_count": 21,
   "metadata": {},
   "outputs": [
    {
     "data": {
      "text/plain": [
       "(3870, 3072)"
      ]
     },
     "execution_count": 21,
     "metadata": {},
     "output_type": "execute_result"
    }
   ],
   "source": [
    "features_reshaped.shape"
   ]
  },
  {
   "cell_type": "code",
   "execution_count": 22,
   "metadata": {},
   "outputs": [],
   "source": [
    "n_voxels = s1_movie_fmri.shape[1]\n",
    "alphas = np.logspace(-6, 6, 50) # Range for alphas\n",
    "kf = KFold(n_splits=5) # Example of 5-fold cross-validation\n",
    "\n",
    "best_alphas = np.zeros(n_voxels)\n",
    "coefficients = np.zeros((n_voxels, features_reshaped.shape[1]))"
   ]
  },
  {
   "cell_type": "code",
   "execution_count": 23,
   "metadata": {},
   "outputs": [],
   "source": [
    "import warnings\n",
    "warnings.filterwarnings(\"ignore\")\n",
    "\n",
    "for voxel in range(n_voxels):\n",
    "    ridge_cv = RidgeCV(alphas=alphas, cv=kf)\n",
    "    ridge_cv.fit(features_reshaped, s1_movie_fmri[:, voxel])\n",
    "    best_alphas[voxel] = ridge_cv.alpha_\n",
    "    coefficients[voxel, :] = ridge_cv.coef_\n",
    "\n",
    "    #alphas = np.array(best_alphas)\n",
    "    #coef = np.array(coefficients)\n",
    "    np.save('results/encoding_model/movie/best_alphas.npy', best_alphas)\n",
    "    np.save('results/encoding_model/movie/coefficients.npy', coefficients)\n",
    "    # Print checkpoints\n",
    "    if voxel == round(n_voxels*0.1):\n",
    "        print(\"10% done\")\n",
    "    elif voxel == round(n_voxels*0.2):\n",
    "        print(\"20% done\")\n",
    "    elif voxel == round(n_voxels*0.3):\n",
    "        print(\"30% done\")\n",
    "    elif voxel == round(n_voxels*0.4):\n",
    "        print(\"40% done\")\n",
    "    elif voxel == round(n_voxels*0.5):\n",
    "        print(\"50% done\")\n",
    "    elif voxel == round(n_voxels*0.6):\n",
    "        print(\"60% done\")\n",
    "    elif voxel == round(n_voxels*0.7):\n",
    "        print(\"70% done\")\n",
    "    elif voxel == round(n_voxels*0.8):\n",
    "        print(\"80% done\")\n",
    "    elif voxel == round(n_voxels*0.9):\n",
    "        print(\"90% done\")\n",
    "print(\"Complete\")"
   ]
  },
  {
   "cell_type": "markdown",
   "metadata": {},
   "source": [
    "#### 3.3 Running voxelwise encoding models on HPC cluster\n",
    "Due to the computational demands of running 81,111 voxels through 50 iterations of cross-validated ridge regression, we ran this on an HPC cluster in batches. Code for the containerized image of python and the voxelwise encoding script can be found in `container`. Results are still found in `results/encoding_model` but are listed in batches: coefficients_0-1599.npy corresponds to the coefficients for the first 1600 voxels."
   ]
  },
  {
   "cell_type": "markdown",
   "metadata": {},
   "source": [
    "## 2 Language encoding model"
   ]
  },
  {
   "cell_type": "markdown",
   "metadata": {},
   "source": [
    "### 1 Load data"
   ]
  },
  {
   "cell_type": "code",
   "execution_count": null,
   "metadata": {},
   "outputs": [],
   "source": [
    "s1_alternateithicatom = np.load(\"data/fmri_data/storydata/S1/alternateithicatom.npy\")\n",
    "s1_avatar = np.load(\"data/fmri_data/storydata/S1/avatar.npy\")\n",
    "s1_howtodraw = np.load(\"data/fmri_data/storydata/S1/howtodraw.npy\")\n",
    "s1_legacy = np.load(\"data/fmri_data/storydata/S1/legacy.npy\")\n",
    "s1_life = np.load(\"data/fmri_data/storydata/S1/life.npy\")\n",
    "s1_myfirstdaywiththeyankees = np.load(\"data/fmri_data/storydata/S1/myfirstdaywiththeyankees.npy\")\n",
    "s1_naked = np.load(\"data/fmri_data/storydata/S1/naked.npy\")\n",
    "s1_odetostepfather = np.load(\"data/fmri_data/storydata/S1/odetostepfather.npy\")\n",
    "s1_souls = np.load(\"data/fmri_data/storydata/S1/souls.npy\")"
   ]
  },
  {
   "cell_type": "markdown",
   "metadata": {},
   "source": [
    "`storydata`: Inside this folder, there are subfolders for each participant’s data as well as one folder for the stimuli\n",
    "\n",
    "Within each participant’s folder, there is a file for each stimulus which contains the brain data. The shape of each of these is *[n_TR, z, x, y]*, and the last three dimensions should be flattened in order to match the shape of the vertex to voxel mappings in the mappers folder. Data that is located outside of the cortical mask is indicated by np.nan values.\n",
    "The shape of the data in the stimuli folder is [n_TR, n_features]. The features dimension includes the low level features (number of words (N=1), number of phonemes (N=1), and phoneme counts (N=39)), which are then followed by the semantic features (N=985)."
   ]
  },
  {
   "cell_type": "code",
   "execution_count": 6,
   "metadata": {},
   "outputs": [],
   "source": [
    "def remove_nan(data):\n",
    "    mask = ~np.isnan(data)\n",
    "\n",
    "    # Apply the mask and then flatten\n",
    "    # This will keep only the non-NaN values\n",
    "    data_reshaped = data[mask].reshape(data.shape[0], -1)\n",
    "    \n",
    "    print(\"fMRI shape:\", data_reshaped.shape)\n",
    "    return data_reshaped"
   ]
  },
  {
   "cell_type": "markdown",
   "metadata": {},
   "source": [
    "Resample feature data to match fMRI data"
   ]
  },
  {
   "cell_type": "code",
   "execution_count": 15,
   "metadata": {},
   "outputs": [],
   "source": [
    "def resample_to_acq(feature_data, fmri_data):\n",
    "    dimensions = fmri_data.shape[0]\n",
    "    data_transposed = feature_data.T\n",
    "    data_resampled = np.empty((data_transposed.shape[0], dimensions))\n",
    "\n",
    "    for i in range(data_transposed.shape[0]):\n",
    "        data_resampled[i, :] = resample(data_transposed[i, :], dimensions, window=('kaiser', 14))\n",
    "    \n",
    "    print(\"Shape after resampling:\", data_resampled.T.shape)\n",
    "    return data_resampled.T"
   ]
  },
  {
   "cell_type": "markdown",
   "metadata": {},
   "source": [
    "Delay data"
   ]
  },
  {
   "cell_type": "code",
   "execution_count": 11,
   "metadata": {},
   "outputs": [],
   "source": [
    "def delay_features(features):\n",
    "    delays = [2, 4, 6, 8]  # Delays in seconds\n",
    "    shifted_features_list = []\n",
    "\n",
    "    for delay in delays:\n",
    "        shift_amount = delay // 2  # Assuming TR is 2 seconds\n",
    "        shifted = np.roll(features, shift_amount, axis=0)\n",
    "        # Optionally, handle edge effects here (e.g., zero-padding or trimming)\n",
    "        shifted_features_list.append(shifted)\n",
    "\n",
    "    # Stack the shifted arrays to create a 3D array\n",
    "    shifted_features_3d = np.stack(shifted_features_list, axis=-1)\n",
    "    \n",
    "    # Reshape the feature data for regression\n",
    "    n_time_points, n_features, n_delays = shifted_features_3d.shape\n",
    "    features_reshaped = shifted_features_3d.reshape(n_time_points, n_features * n_delays)\n",
    "\n",
    "    print(\"Shape after delays:\", features_reshaped.shape)\n",
    "    return features_reshaped"
   ]
  },
  {
   "cell_type": "code",
   "execution_count": 12,
   "metadata": {},
   "outputs": [],
   "source": [
    "def prep_data(fmri_data, feature_data):\n",
    "    fmri_reshaped = remove_nan(fmri_data)\n",
    "\n",
    "    feature_resampled = resample_to_acq(feature_data, fmri_reshaped)\n",
    "    feature_delayed = delay_features(feature_resampled)\n",
    "\n",
    "    return fmri_reshaped, feature_delayed"
   ]
  },
  {
   "cell_type": "markdown",
   "metadata": {},
   "source": [
    "### Load feature data"
   ]
  },
  {
   "cell_type": "code",
   "execution_count": 13,
   "metadata": {},
   "outputs": [],
   "source": [
    "# story data\n",
    "alternateithicatom = np.load(\"results/feature_vectors/story/alternateithicatom_data.npy\")\n",
    "avatar = np.load(\"results/feature_vectors/story/avatar_data.npy\")\n",
    "howtodraw = np.load(\"results/feature_vectors/story/howtodraw_data.npy\")\n",
    "legacy = np.load(\"results/feature_vectors/story/legacy_data.npy\")\n",
    "life = np.load(\"results/feature_vectors/story/life_data.npy\")\n",
    "myfirstdaywiththeyankees = np.load(\"results/feature_vectors/story/myfirstdaywiththeyankees_data.npy\")\n",
    "naked = np.load(\"results/feature_vectors/story/naked_data.npy\")\n",
    "odetostepfather = np.load(\"results/feature_vectors/story/odetostepfather_data.npy\")\n",
    "souls = np.load(\"results/feature_vectors/story/souls_data.npy\")"
   ]
  },
  {
   "cell_type": "code",
   "execution_count": 16,
   "metadata": {},
   "outputs": [
    {
     "name": "stdout",
     "output_type": "stream",
     "text": [
      "fMRI shape: (363, 81111)\n",
      "Shape after resampling: (363, 768)\n",
      "Shape after delays: (363, 3072)\n",
      "fMRI shape: (387, 81111)\n",
      "Shape after resampling: (387, 768)\n",
      "Shape after delays: (387, 3072)\n",
      "fMRI shape: (374, 81111)\n",
      "Shape after resampling: (374, 768)\n",
      "Shape after delays: (374, 3072)\n",
      "fMRI shape: (450, 81111)\n",
      "Shape after resampling: (450, 768)\n",
      "Shape after delays: (450, 3072)\n",
      "fMRI shape: (378, 81111)\n",
      "Shape after resampling: (378, 768)\n",
      "Shape after delays: (378, 3072)\n",
      "fMRI shape: (442, 81111)\n",
      "Shape after resampling: (442, 768)\n",
      "Shape after delays: (442, 3072)\n",
      "fMRI shape: (424, 81111)\n",
      "Shape after resampling: (424, 768)\n",
      "Shape after delays: (424, 3072)\n",
      "fMRI shape: (375, 81111)\n",
      "Shape after resampling: (375, 768)\n",
      "Shape after delays: (375, 3072)\n"
     ]
    }
   ],
   "source": [
    "s1_ai_fmri, s1_ai_features = prep_data(s1_alternateithicatom, alternateithicatom)\n",
    "s1_avatar_fmri, s1_avatar_features = prep_data(s1_avatar, avatar)\n",
    "s1_howtodraw_fmri, s1_howtodraw_features = prep_data(s1_howtodraw, howtodraw)\n",
    "s1_life_fmri, s1_life_features = prep_data(s1_life, life)\n",
    "s1_yankees_fmri, s1_yankees_features = prep_data(s1_myfirstdaywiththeyankees, myfirstdaywiththeyankees)\n",
    "s1_naked_fmri, s1_naked_features = prep_data(s1_naked, naked)\n",
    "s1_ode_fmri, s1_ode_features = prep_data(s1_odetostepfather, odetostepfather)\n",
    "s1_souls_fmri, s1_souls_features = prep_data(s1_souls, souls)"
   ]
  }
 ],
 "metadata": {
  "kernelspec": {
   "display_name": "Python 3",
   "language": "python",
   "name": "python3"
  },
  "language_info": {
   "codemirror_mode": {
    "name": "ipython",
    "version": 3
   },
   "file_extension": ".py",
   "mimetype": "text/x-python",
   "name": "python",
   "nbconvert_exporter": "python",
   "pygments_lexer": "ipython3",
   "version": "3.11.7"
  }
 },
 "nbformat": 4,
 "nbformat_minor": 2
}
