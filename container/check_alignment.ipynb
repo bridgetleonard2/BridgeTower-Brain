{
 "cells": [
  {
   "cell_type": "code",
   "execution_count": 1,
   "metadata": {},
   "outputs": [],
   "source": [
    "import numpy as np"
   ]
  },
  {
   "cell_type": "code",
   "execution_count": 7,
   "metadata": {},
   "outputs": [],
   "source": [
    "old_alignment_c2i = np.load('../results/intermediate_steps/feature_alignment/coef_captions_to_images.npy')\n",
    "new_alignment_c2i = np.load('../results/alignment/layer_8/coef_captions_to_images.npy')"
   ]
  },
  {
   "cell_type": "code",
   "execution_count": 8,
   "metadata": {},
   "outputs": [
    {
     "data": {
      "text/plain": [
       "(768, 768)"
      ]
     },
     "execution_count": 8,
     "metadata": {},
     "output_type": "execute_result"
    }
   ],
   "source": [
    "old_alignment_c2i.shape"
   ]
  },
  {
   "cell_type": "code",
   "execution_count": 9,
   "metadata": {},
   "outputs": [
    {
     "data": {
      "text/plain": [
       "array([[-0.06586116, -0.06584057, -0.04302067, ..., -0.01710376,\n",
       "        -0.08587756,  0.0572179 ],\n",
       "       [ 0.14582579,  0.02596512,  0.00644932, ...,  0.01360619,\n",
       "         0.05304498,  0.01532002],\n",
       "       [ 0.06558589, -0.04621033, -0.00599497, ...,  0.01173498,\n",
       "        -0.01863663, -0.00616143],\n",
       "       ...,\n",
       "       [-0.01791775,  0.03866625,  0.01897837, ..., -0.11040347,\n",
       "         0.00224039, -0.04789043],\n",
       "       [ 0.0073558 , -0.00182424, -0.00094781, ...,  0.00798753,\n",
       "         0.00148184,  0.00200871],\n",
       "       [-0.00164205, -0.11017035,  0.05369824, ..., -0.07911264,\n",
       "        -0.00051936, -0.05529642]])"
      ]
     },
     "execution_count": 9,
     "metadata": {},
     "output_type": "execute_result"
    }
   ],
   "source": [
    "old_alignment_c2i[:10]"
   ]
  },
  {
   "cell_type": "code",
   "execution_count": 10,
   "metadata": {},
   "outputs": [
    {
     "data": {
      "text/plain": [
       "(768, 768)"
      ]
     },
     "execution_count": 10,
     "metadata": {},
     "output_type": "execute_result"
    }
   ],
   "source": [
    "new_alignment_c2i.shape"
   ]
  },
  {
   "cell_type": "code",
   "execution_count": 11,
   "metadata": {},
   "outputs": [
    {
     "data": {
      "text/plain": [
       "array([[-0.03529627,  0.11066092,  0.04772103, ..., -0.01884992,\n",
       "        -0.02981584,  0.01745446],\n",
       "       [-0.03637606, -0.03687125, -0.03235766, ..., -0.02853437,\n",
       "        -0.04265821, -0.01794142],\n",
       "       [-0.0306418 ,  0.00069299, -0.00403774, ..., -0.02200768,\n",
       "         0.01835931, -0.00550605],\n",
       "       ...,\n",
       "       [ 0.04132035,  0.07130297,  0.02376009, ..., -0.04732241,\n",
       "        -0.02246874,  0.0541233 ],\n",
       "       [-0.01079342,  0.01507477,  0.08916973, ..., -0.00705928,\n",
       "         0.04118067, -0.03254234],\n",
       "       [ 0.05301312, -0.04084847, -0.1064562 , ..., -0.06169366,\n",
       "        -0.0202154 ,  0.00289513]], dtype=float32)"
      ]
     },
     "execution_count": 11,
     "metadata": {},
     "output_type": "execute_result"
    }
   ],
   "source": [
    "new_alignment_c2i[:10]"
   ]
  },
  {
   "cell_type": "code",
   "execution_count": 12,
   "metadata": {},
   "outputs": [
    {
     "data": {
      "text/plain": [
       "array([[False, False, False, ..., False, False, False],\n",
       "       [False, False, False, ..., False, False, False],\n",
       "       [False, False, False, ..., False, False, False],\n",
       "       ...,\n",
       "       [False, False, False, ..., False, False, False],\n",
       "       [False, False, False, ..., False, False, False],\n",
       "       [False, False, False, ..., False, False, False]])"
      ]
     },
     "execution_count": 12,
     "metadata": {},
     "output_type": "execute_result"
    }
   ],
   "source": [
    "old_alignment_c2i == new_alignment_c2i"
   ]
  },
  {
   "cell_type": "code",
   "execution_count": 15,
   "metadata": {},
   "outputs": [],
   "source": [
    "old_alignment_i2c = np.load('../results/intermediate_steps/feature_alignment/coef_images_to_captions.npy')\n",
    "new_alignment_i2c = np.load('../results/alignment/layer_8/coef_images_to_captions.npy')"
   ]
  },
  {
   "cell_type": "code",
   "execution_count": 16,
   "metadata": {},
   "outputs": [
    {
     "data": {
      "text/plain": [
       "False"
      ]
     },
     "execution_count": 16,
     "metadata": {},
     "output_type": "execute_result"
    }
   ],
   "source": [
    "test_i2c = old_alignment_i2c == new_alignment_i2c\n",
    "test_i2c.all()"
   ]
  },
  {
   "cell_type": "code",
   "execution_count": 17,
   "metadata": {},
   "outputs": [
    {
     "data": {
      "text/plain": [
       "array([[False, False, False, ..., False, False, False],\n",
       "       [False, False, False, ..., False, False, False],\n",
       "       [False, False, False, ..., False, False, False],\n",
       "       ...,\n",
       "       [False, False, False, ..., False, False, False],\n",
       "       [False, False, False, ..., False, False, False],\n",
       "       [False, False, False, ..., False, False, False]])"
      ]
     },
     "execution_count": 17,
     "metadata": {},
     "output_type": "execute_result"
    }
   ],
   "source": [
    "old_alignment_i2c == new_alignment_i2c.T"
   ]
  },
  {
   "cell_type": "code",
   "execution_count": null,
   "metadata": {},
   "outputs": [],
   "source": []
  }
 ],
 "metadata": {
  "kernelspec": {
   "display_name": "Python 3",
   "language": "python",
   "name": "python3"
  },
  "language_info": {
   "codemirror_mode": {
    "name": "ipython",
    "version": 3
   },
   "file_extension": ".py",
   "mimetype": "text/x-python",
   "name": "python",
   "nbconvert_exporter": "python",
   "pygments_lexer": "ipython3",
   "version": "3.11.7"
  }
 },
 "nbformat": 4,
 "nbformat_minor": 2
}
