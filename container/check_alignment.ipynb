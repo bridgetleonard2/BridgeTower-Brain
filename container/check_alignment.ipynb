{
 "cells": [
  {
   "cell_type": "code",
   "execution_count": 18,
   "metadata": {},
   "outputs": [],
   "source": [
    "import numpy as np"
   ]
  },
  {
   "cell_type": "code",
   "execution_count": 19,
   "metadata": {},
   "outputs": [],
   "source": [
    "old_alignment_c2i = np.load('results/intermediate_steps/feature_alignment/coef_captions_to_images.npy')\n",
    "new_alignment_c2i = np.load('results/alignment/layer_8/coef_captions_to_images.npy')"
   ]
  },
  {
   "cell_type": "code",
   "execution_count": 26,
   "metadata": {},
   "outputs": [
    {
     "data": {
      "text/plain": [
       "(768, 768)"
      ]
     },
     "execution_count": 26,
     "metadata": {},
     "output_type": "execute_result"
    }
   ],
   "source": [
    "old_alignment_c2i.shape"
   ]
  },
  {
   "cell_type": "code",
   "execution_count": 20,
   "metadata": {},
   "outputs": [
    {
     "data": {
      "text/plain": [
       "array([[-0.06586116, -0.06584057, -0.04302067, ..., -0.01710376,\n",
       "        -0.08587756,  0.0572179 ],\n",
       "       [ 0.14582579,  0.02596512,  0.00644932, ...,  0.01360619,\n",
       "         0.05304498,  0.01532002],\n",
       "       [ 0.06558589, -0.04621033, -0.00599497, ...,  0.01173498,\n",
       "        -0.01863663, -0.00616143],\n",
       "       ...,\n",
       "       [-0.01791775,  0.03866625,  0.01897837, ..., -0.11040347,\n",
       "         0.00224039, -0.04789043],\n",
       "       [ 0.0073558 , -0.00182424, -0.00094781, ...,  0.00798753,\n",
       "         0.00148184,  0.00200871],\n",
       "       [-0.00164205, -0.11017035,  0.05369824, ..., -0.07911264,\n",
       "        -0.00051936, -0.05529642]])"
      ]
     },
     "execution_count": 20,
     "metadata": {},
     "output_type": "execute_result"
    }
   ],
   "source": [
    "old_alignment_c2i[:10]"
   ]
  },
  {
   "cell_type": "code",
   "execution_count": 27,
   "metadata": {},
   "outputs": [
    {
     "data": {
      "text/plain": [
       "(768, 768)"
      ]
     },
     "execution_count": 27,
     "metadata": {},
     "output_type": "execute_result"
    }
   ],
   "source": [
    "new_alignment_c2i.shape"
   ]
  },
  {
   "cell_type": "code",
   "execution_count": 21,
   "metadata": {},
   "outputs": [
    {
     "data": {
      "text/plain": [
       "array([[-2.07694359e-02,  7.19306096e-02,  6.55926540e-02, ...,\n",
       "        -2.24860869e-02, -5.56155937e-05,  8.02843279e-05],\n",
       "       [-2.10390240e-02, -2.68524829e-02, -4.62126695e-02, ...,\n",
       "        -3.83309051e-02, -7.82753050e-05, -8.25242751e-05],\n",
       "       [-1.88895967e-02, -4.01508762e-04, -5.99421002e-03, ...,\n",
       "        -2.67246962e-02,  3.77657125e-05, -2.53259568e-05],\n",
       "       ...,\n",
       "       [ 2.51194127e-02,  4.60354164e-02,  3.42441574e-02, ...,\n",
       "        -6.60010427e-02, -3.63983127e-05,  2.48948258e-04],\n",
       "       [-6.61315490e-03,  9.63400491e-03,  1.24482647e-01, ...,\n",
       "        -1.08074825e-02,  6.66713240e-05, -1.49683474e-04],\n",
       "       [ 2.96800714e-02, -2.74434090e-02, -1.49233386e-01, ...,\n",
       "        -7.87368938e-02, -3.86612883e-05,  1.33167578e-05]], dtype=float32)"
      ]
     },
     "execution_count": 21,
     "metadata": {},
     "output_type": "execute_result"
    }
   ],
   "source": [
    "new_alignment_c2i[:10]"
   ]
  },
  {
   "cell_type": "code",
   "execution_count": 22,
   "metadata": {},
   "outputs": [
    {
     "data": {
      "text/plain": [
       "array([[False, False, False, ..., False, False, False],\n",
       "       [False, False, False, ..., False, False, False],\n",
       "       [False, False, False, ..., False, False, False],\n",
       "       ...,\n",
       "       [False, False, False, ..., False, False, False],\n",
       "       [False, False, False, ..., False, False, False],\n",
       "       [False, False, False, ..., False, False, False]])"
      ]
     },
     "execution_count": 22,
     "metadata": {},
     "output_type": "execute_result"
    }
   ],
   "source": [
    "old_alignment_c2i == new_alignment_c2i"
   ]
  },
  {
   "cell_type": "code",
   "execution_count": 23,
   "metadata": {},
   "outputs": [],
   "source": [
    "old_alignment_i2c = np.load('results/intermediate_steps/feature_alignment/image_to_caption_matrices.npy')\n",
    "new_alignment_i2c = np.load('results/alignment/layer_8/coef_images_to_captions.npy')"
   ]
  },
  {
   "cell_type": "code",
   "execution_count": 24,
   "metadata": {},
   "outputs": [
    {
     "data": {
      "text/plain": [
       "False"
      ]
     },
     "execution_count": 24,
     "metadata": {},
     "output_type": "execute_result"
    }
   ],
   "source": [
    "test_i2c = old_alignment_i2c == new_alignment_i2c\n",
    "test_i2c.all()"
   ]
  },
  {
   "cell_type": "code",
   "execution_count": 25,
   "metadata": {},
   "outputs": [
    {
     "data": {
      "text/plain": [
       "array([[False, False, False, ..., False, False, False],\n",
       "       [False, False, False, ..., False, False, False],\n",
       "       [False, False, False, ..., False, False, False],\n",
       "       ...,\n",
       "       [False, False, False, ..., False, False, False],\n",
       "       [False, False, False, ..., False, False, False],\n",
       "       [False, False, False, ..., False, False, False]])"
      ]
     },
     "execution_count": 25,
     "metadata": {},
     "output_type": "execute_result"
    }
   ],
   "source": [
    "old_alignment_i2c == new_alignment_i2c.T"
   ]
  },
  {
   "cell_type": "code",
   "execution_count": null,
   "metadata": {},
   "outputs": [],
   "source": []
  }
 ],
 "metadata": {
  "kernelspec": {
   "display_name": "Python 3",
   "language": "python",
   "name": "python3"
  },
  "language_info": {
   "codemirror_mode": {
    "name": "ipython",
    "version": 3
   },
   "file_extension": ".py",
   "mimetype": "text/x-python",
   "name": "python",
   "nbconvert_exporter": "python",
   "pygments_lexer": "ipython3",
   "version": "3.11.7"
  }
 },
 "nbformat": 4,
 "nbformat_minor": 2
}
