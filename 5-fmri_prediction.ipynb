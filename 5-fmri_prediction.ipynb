{
 "cells": [
  {
   "cell_type": "code",
   "execution_count": 2,
   "metadata": {},
   "outputs": [],
   "source": [
    "import numpy as np\n",
    "import os"
   ]
  },
  {
   "cell_type": "code",
   "execution_count": 3,
   "metadata": {},
   "outputs": [],
   "source": [
    "os.chdir(\"C:\\\\Users\\\\Bridget Leonard\\\\Desktop\\\\DNN_fMRI\")"
   ]
  },
  {
   "cell_type": "markdown",
   "metadata": {},
   "source": [
    "## Part 5: fMRI Prediction\n",
    "- project features into opposite modal space with feature alignment\n",
    "- predict fMRI activity using features"
   ]
  },
  {
   "cell_type": "markdown",
   "metadata": {},
   "source": [
    "### 1 Feature alignment matrices"
   ]
  },
  {
   "cell_type": "markdown",
   "metadata": {},
   "source": [
    "#### 1.1 Load the matrices\n",
    "These matrices were calculated in part 3. They represent the linear relationship between image and caption pairs. The image-->caption matrices were estimated by predicting each language feature from visual features, the caption--> image matrices were estimated by predicting each visual feature from the language features. Thus we have two matrices with size [768, 768] where each column represents a language or visual feature's linear relationship (beta coefficient) with each visual or language feature, respectively."
   ]
  },
  {
   "cell_type": "code",
   "execution_count": 60,
   "metadata": {},
   "outputs": [],
   "source": [
    "caption_to_image_matrices = np.load(\"bridgetower\\\\data\\\\feature_alignment\\\\caption_to_image_matrices.npy\")\n",
    "image_to_caption_matrices = np.load(\"bridgetower\\\\data\\\\feature_alignment\\\\image_to_caption_matrices.npy\")"
   ]
  },
  {
   "cell_type": "code",
   "execution_count": 61,
   "metadata": {},
   "outputs": [
    {
     "data": {
      "text/plain": [
       "(768, 768)"
      ]
     },
     "execution_count": 61,
     "metadata": {},
     "output_type": "execute_result"
    }
   ],
   "source": [
    "caption_to_image_matrices.shape"
   ]
  },
  {
   "cell_type": "markdown",
   "metadata": {},
   "source": [
    "#### 1.2 Project data into the opposite modal space"
   ]
  },
  {
   "cell_type": "code",
   "execution_count": 62,
   "metadata": {},
   "outputs": [],
   "source": [
    "# Load feature vectors\n",
    "# movie data\n",
    "test = np.load(\"bridgetower\\\\feature_vectors\\\\movie\\\\test_data.npy\")\n",
    "train00 = np.load(\"bridgetower\\\\feature_vectors\\\\movie\\\\train_00_data.npy\")\n",
    "train01 = np.load(\"bridgetower\\\\feature_vectors\\\\movie\\\\train_01_data.npy\")\n",
    "train02 = np.load(\"bridgetower\\\\feature_vectors\\\\movie\\\\train_02_data.npy\")\n",
    "train03 = np.load(\"bridgetower\\\\feature_vectors\\\\movie\\\\train_03_data.npy\")\n",
    "train04 = np.load(\"bridgetower\\\\feature_vectors\\\\movie\\\\train_04_data.npy\")\n",
    "train05 = np.load(\"bridgetower\\\\feature_vectors\\\\movie\\\\train_05_data.npy\")\n",
    "train06 = np.load(\"bridgetower\\\\feature_vectors\\\\movie\\\\train_06_data.npy\")\n",
    "train07 = np.load(\"bridgetower\\\\feature_vectors\\\\movie\\\\train_07_data.npy\")\n",
    "train08 = np.load(\"bridgetower\\\\feature_vectors\\\\movie\\\\train_08_data.npy\")\n",
    "train09 = np.load(\"bridgetower\\\\feature_vectors\\\\movie\\\\train_09_data.npy\")\n",
    "train10 = np.load(\"bridgetower\\\\feature_vectors\\\\movie\\\\train_10_data.npy\")\n",
    "train11 = np.load(\"bridgetower\\\\feature_vectors\\\\movie\\\\train_11_data.npy\")\n",
    "\n",
    "# story data\n",
    "alternateithicatom = np.load(\"bridgetower\\\\feature_vectors\\\\story\\\\alternateithicatom_data.npy\")\n",
    "avatar = np.load(\"bridgetower\\\\feature_vectors\\\\story\\\\avatar_data.npy\")\n",
    "howtodraw = np.load(\"bridgetower\\\\feature_vectors\\\\story\\\\howtodraw_data.npy\")\n",
    "legacy = np.load(\"bridgetower\\\\feature_vectors\\\\story\\\\legacy_data.npy\")\n",
    "life = np.load(\"bridgetower\\\\feature_vectors\\\\story\\\\life_data.npy\")\n",
    "myfirstdaywiththeyankees = np.load(\"bridgetower\\\\feature_vectors\\\\story\\\\myfirstdaywiththeyankees_data.npy\")\n",
    "naked = np.load(\"bridgetower\\\\feature_vectors\\\\story\\\\naked_data.npy\")\n",
    "odetostepfather = np.load(\"bridgetower\\\\feature_vectors\\\\story\\\\odetostepfather_data.npy\")\n",
    "souls = np.load(\"bridgetower\\\\feature_vectors\\\\story\\\\souls_data.npy\")\n",
    "undertheinfluence = np.load(\"bridgetower\\\\feature_vectors\\\\story\\\\undertheinfluence_data.npy\")"
   ]
  },
  {
   "cell_type": "markdown",
   "metadata": {},
   "source": [
    "Visual to text: Movie data"
   ]
  },
  {
   "cell_type": "code",
   "execution_count": 64,
   "metadata": {},
   "outputs": [],
   "source": [
    "test_transformed = np.dot(test, image_to_caption_matrices.T)\n",
    "train00_transformed = np.dot(train00, image_to_caption_matrices.T)\n",
    "train01_transformed = np.dot(train01, image_to_caption_matrices.T)\n",
    "train02_transformed = np.dot(train02, image_to_caption_matrices.T)\n",
    "train03_transformed = np.dot(train03, image_to_caption_matrices.T)\n",
    "train04_transformed = np.dot(train04, image_to_caption_matrices.T)\n",
    "train05_transformed = np.dot(train05, image_to_caption_matrices.T)\n",
    "train06_transformed = np.dot(train06, image_to_caption_matrices.T)\n",
    "train07_transformed = np.dot(train07, image_to_caption_matrices.T)\n",
    "train08_transformed = np.dot(train08, image_to_caption_matrices.T)\n",
    "train09_transformed = np.dot(train09, image_to_caption_matrices.T)\n",
    "train10_transformed = np.dot(train10, image_to_caption_matrices.T)\n",
    "train11_transformed = np.dot(train11, image_to_caption_matrices.T)"
   ]
  },
  {
   "cell_type": "markdown",
   "metadata": {},
   "source": [
    "Text to visual: Story data"
   ]
  },
  {
   "cell_type": "code",
   "execution_count": 65,
   "metadata": {},
   "outputs": [],
   "source": [
    "alternateithicatom_transformed = np.dot(alternateithicatom, caption_to_image_matrices.T)\n",
    "avatar_transformed = np.dot(avatar, caption_to_image_matrices.T)\n",
    "howtodraw_transformed = np.dot(howtodraw, caption_to_image_matrices.T)\n",
    "legacy_transformed = np.dot(legacy, caption_to_image_matrices.T)\n",
    "life_transformed = np.dot(life, caption_to_image_matrices.T)\n",
    "myfirstdaywiththeyankees_transformed = np.dot(myfirstdaywiththeyankees, caption_to_image_matrices.T)\n",
    "naked_transformed = np.dot(naked, caption_to_image_matrices.T)\n",
    "odetostepfather_transformed = np.dot(odetostepfather, caption_to_image_matrices.T)\n",
    "souls_transformed = np.dot(souls, caption_to_image_matrices.T)\n",
    "undertheinfluence_transformed = np.dot(undertheinfluence, caption_to_image_matrices.T)"
   ]
  },
  {
   "cell_type": "markdown",
   "metadata": {},
   "source": [
    "### 2 Load voxelwise encoding models\n",
    "These matrices were calculated in part 4."
   ]
  },
  {
   "cell_type": "code",
   "execution_count": 6,
   "metadata": {},
   "outputs": [
    {
     "name": "stdout",
     "output_type": "stream",
     "text": [
      "Number of voxels processed: 1622\n",
      "Percentage of voxels processed: 100.0%\n"
     ]
    }
   ],
   "source": [
    "# Load alphas and coefficients from encoding models\n",
    "best_alphas = np.load(\"results\\\\encoding_models\\\\movie\\\\best_alphas_1623-3244.npy\")\n",
    "coefficients = np.load(\"results\\\\encoding_models\\\\movie\\\\coefficients_1623-3244.npy\")\n",
    "\n",
    "print(\"Number of voxels processed:\", np.count_nonzero(best_alphas))\n",
    "print(\"Percentage of voxels processed: \" + str(round((np.count_nonzero(best_alphas)/len(best_alphas))*100, 2)) + \"%\")"
   ]
  },
  {
   "cell_type": "code",
   "execution_count": 5,
   "metadata": {},
   "outputs": [
    {
     "data": {
      "text/plain": [
       "(1623, 3072)"
      ]
     },
     "execution_count": 5,
     "metadata": {},
     "output_type": "execute_result"
    }
   ],
   "source": [
    "coefficients.shape"
   ]
  },
  {
   "cell_type": "markdown",
   "metadata": {},
   "source": [
    "For each voxel, we have two values:\n",
    "\n",
    "1) The best alpha value to capture the linear relationship between this voxel and each of the 4k stimulus features (using L2-regularized linear regression)\n",
    "\n",
    "2) A list of coefficients with length 4k (4*768 = 3072), giving us one slope for each of our features to show it's relation to the voxel's activity"
   ]
  },
  {
   "cell_type": "code",
   "execution_count": 7,
   "metadata": {},
   "outputs": [
    {
     "name": "stdout",
     "output_type": "stream",
     "text": [
      "Best alpha for our first voxel: 33932.217718953296\n",
      "Coefficients for the first 10 features for our first voxel: [-1.6447419e-04 -4.3410615e-05  1.0913535e-04  1.5899843e-04\n",
      " -5.2098444e-06  2.5727547e-04  1.7378540e-04 -3.2150943e-04\n",
      "  2.9492809e-04  1.4711423e-04]\n",
      "Number of coefficients for our first voxel: 3072\n"
     ]
    }
   ],
   "source": [
    "print(\"Best alpha for our first voxel:\", best_alphas[0])\n",
    "print(\"Coefficients for the first 10 features for our first voxel:\", coefficients[0][:10])\n",
    "print(\"Number of coefficients for our first voxel:\", len(coefficients[0]))"
   ]
  },
  {
   "cell_type": "code",
   "execution_count": 8,
   "metadata": {},
   "outputs": [
    {
     "data": {
      "text/plain": [
       "array([  33932.21771895, 1000000.        ,   19306.97728883,\n",
       "        184206.99693267, 1000000.        ,   59636.23316595,\n",
       "       1000000.        , 1000000.        , 1000000.        ,\n",
       "       1000000.        , 1000000.        , 1000000.        ,\n",
       "        104811.31341547, 1000000.        ,  568986.60290183,\n",
       "       1000000.        , 1000000.        ,   19306.97728883,\n",
       "       1000000.        ,   10985.41141988,  104811.31341547,\n",
       "       1000000.        , 1000000.        , 1000000.        ,\n",
       "       1000000.        , 1000000.        , 1000000.        ])"
      ]
     },
     "execution_count": 8,
     "metadata": {},
     "output_type": "execute_result"
    }
   ],
   "source": [
    "best_alphas[:27]"
   ]
  },
  {
   "cell_type": "code",
   "execution_count": null,
   "metadata": {},
   "outputs": [],
   "source": []
  }
 ],
 "metadata": {
  "kernelspec": {
   "display_name": "Python 3",
   "language": "python",
   "name": "python3"
  },
  "language_info": {
   "codemirror_mode": {
    "name": "ipython",
    "version": 3
   },
   "file_extension": ".py",
   "mimetype": "text/x-python",
   "name": "python",
   "nbconvert_exporter": "python",
   "pygments_lexer": "ipython3",
   "version": "3.11.7"
  }
 },
 "nbformat": 4,
 "nbformat_minor": 2
}
