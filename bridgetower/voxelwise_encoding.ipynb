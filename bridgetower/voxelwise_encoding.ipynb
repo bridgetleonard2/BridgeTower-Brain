{
 "cells": [
  {
   "cell_type": "code",
   "execution_count": 4,
   "metadata": {},
   "outputs": [],
   "source": [
    "import numpy as np\n",
    "import torch\n",
    "import os"
   ]
  },
  {
   "cell_type": "code",
   "execution_count": 5,
   "metadata": {},
   "outputs": [],
   "source": [
    "os.chdir(\"C:\\\\Users\\\\Bridget Leonard\\\\Desktop\\\\DNN_fMRI\")"
   ]
  },
  {
   "cell_type": "markdown",
   "metadata": {},
   "source": [
    "## Part 3: Voxelwise Encoding Models"
   ]
  },
  {
   "cell_type": "markdown",
   "metadata": {},
   "source": [
    "Now that we have our stimuli features from the BridgeTower model, we can use them to predict brain responses. To do this, we will need to load in our fMRI data.\n",
    "To start we will be using sub1 from Popham et al 2021"
   ]
  },
  {
   "cell_type": "markdown",
   "metadata": {},
   "source": [
    "### 1 Load fMRI data"
   ]
  },
  {
   "cell_type": "code",
   "execution_count": 13,
   "metadata": {},
   "outputs": [],
   "source": [
    "s1_movie_test = np.load(\"bridgetower\\\\data\\\\moviedata\\\\S1\\\\test.npy\")\n",
    "s1_movie_train = np.load(\"bridgetower\\\\data\\\\moviedata\\\\S1\\\\train.npy\")"
   ]
  },
  {
   "cell_type": "code",
   "execution_count": null,
   "metadata": {},
   "outputs": [],
   "source": [
    "s1_alternateithicatom = np.load(\"bridgetower\\\\data\\\\storydata\\\\S1\\\\alternateithicatom.npy\")\n",
    "s1_avatar = np.load(\"bridgetower\\\\data\\\\storydata\\\\S1\\\\avatar.npy\")\n",
    "s1_howtodraw = np.load(\"bridgetower\\\\data\\\\storydata\\\\S1\\\\howtodraw.npy\")\n",
    "s1_legacy = np.load(\"bridgetower\\\\data\\\\storydata\\\\S1\\\\legacy.npy\")\n",
    "s1_life = np.load(\"bridgetower\\\\data\\\\storydata\\\\S1\\\\life.npy\")\n",
    "s1_myfirstdaywiththeyankees = np.load(\"bridgetower\\\\data\\\\storydata\\\\S1\\\\myfirstdaywiththeyankees.npy\")\n",
    "s1_naked = np.load(\"bridgetower\\\\data\\\\storydata\\\\S1\\\\naked.npy\")\n",
    "s1_odetostepfather = np.load(\"bridgetower\\\\data\\\\storydata\\\\S1\\\\odetostepfather.npy\")\n",
    "s1_souls = np.load(\"bridgetower\\\\data\\\\storydata\\\\S1\\\\souls.npy\")\n",
    "s1_undertheinfluence = np.load(\"bridgetower\\\\data\\\\storydata\\\\S1\\\\undertheinfluence.npy\")"
   ]
  },
  {
   "cell_type": "markdown",
   "metadata": {},
   "source": [
    "The data is organized as such:\n",
    "\n",
    "`moviedata`: Inside this folder, there are subfolders for each participant’s data as well as one folder for the stimuli\n",
    "\n",
    "Within each partcipant’s folder, there is a train.npy and a test.npy file, which contain the brain data for the training and testing data for the models. The shape of each of these is *[n_TR, z, x, y]*, and the last three dimensions should be flattened in order to match the shape of the vertex to voxel mappings in the mappers folder. Data that is located outside of the cortical mask is indicated by np.nan values.\n",
    "The shape of the data in the stimuli folder is [n_TR, n_features]. The features dimension includes the motion energy features (N=2139), which are then followed by the semantic features (N=985).\n",
    "\n",
    "`storydata`: Inside this folder, there are subfolders for each participant’s data as well as one folder for the stimuli\n",
    "\n",
    "Within each participant’s folder, there is a file for each stimulus which contains the brain data. The shape of each of these is *[n_TR, z, x, y]*, and the last three dimensions should be flattened in order to match the shape of the vertex to voxel mappings in the mappers folder. Data that is located outside of the cortical mask is indicated by np.nan values.\n",
    "The shape of the data in the stimuli folder is [n_TR, n_features]. The features dimension includes the low level features (number of words (N=1), number of phonemes (N=1), and phoneme counts (N=39)), which are then followed by the semantic features (N=985)."
   ]
  },
  {
   "cell_type": "code",
   "execution_count": 15,
   "metadata": {},
   "outputs": [
    {
     "name": "stdout",
     "output_type": "stream",
     "text": [
      "S1 movie test shape: (270, 31, 100, 100)\n",
      "S1 movie train shape: (3600, 31, 100, 100)\n",
      "Flattened S1 movie test shape: (270, 310000)\n",
      "Flattened S1 movie train shape: (3600, 310000)\n"
     ]
    }
   ],
   "source": [
    "print(\"S1 movie test shape:\", s1_movie_test.shape)\n",
    "print(\"S1 movie train shape:\", s1_movie_train.shape)\n",
    "# Flatten data\n",
    "s1_movie_test_flat = s1_movie_test.reshape(s1_movie_test.shape[0], -1)\n",
    "s1_movie_train_flat = s1_movie_train.reshape(s1_movie_train.shape[0], -1)\n",
    "\n",
    "print(\"Flattened S1 movie test shape:\", s1_movie_test_flat.shape)\n",
    "print(\"Flattened S1 movie train shape:\", s1_movie_train_flat.shape)"
   ]
  },
  {
   "cell_type": "markdown",
   "metadata": {},
   "source": [
    "#### 1.2 Load in feature vectors"
   ]
  },
  {
   "cell_type": "code",
   "execution_count": 16,
   "metadata": {},
   "outputs": [],
   "source": [
    "# movie data\n",
    "test = np.load(\"bridgetower\\\\feature_vectors\\\\movie\\\\test_data.npy\")\n",
    "train00 = np.load(\"bridgetower\\\\feature_vectors\\\\movie\\\\train_00_data.npy\")\n",
    "train01 = np.load(\"bridgetower\\\\feature_vectors\\\\movie\\\\train_01_data.npy\")\n",
    "train02 = np.load(\"bridgetower\\\\feature_vectors\\\\movie\\\\train_02_data.npy\")\n",
    "train03 = np.load(\"bridgetower\\\\feature_vectors\\\\movie\\\\train_03_data.npy\")\n",
    "train04 = np.load(\"bridgetower\\\\feature_vectors\\\\movie\\\\train_04_data.npy\")\n",
    "train05 = np.load(\"bridgetower\\\\feature_vectors\\\\movie\\\\train_05_data.npy\")\n",
    "train06 = np.load(\"bridgetower\\\\feature_vectors\\\\movie\\\\train_06_data.npy\")\n",
    "train07 = np.load(\"bridgetower\\\\feature_vectors\\\\movie\\\\train_07_data.npy\")\n",
    "train08 = np.load(\"bridgetower\\\\feature_vectors\\\\movie\\\\train_08_data.npy\")\n",
    "train09 = np.load(\"bridgetower\\\\feature_vectors\\\\movie\\\\train_09_data.npy\")\n",
    "train10 = np.load(\"bridgetower\\\\feature_vectors\\\\movie\\\\train_10_data.npy\")\n",
    "train11 = np.load(\"bridgetower\\\\feature_vectors\\\\movie\\\\train_11_data.npy\")"
   ]
  },
  {
   "cell_type": "code",
   "execution_count": null,
   "metadata": {},
   "outputs": [],
   "source": [
    "# story data\n",
    "alternateithicatom = np.load(\"bridgetower\\\\feature_vectors\\\\story\\\\alternateithicatom_data.npy\")\n",
    "avatar = np.load(\"bridgetower\\\\feature_vectors\\\\story\\\\avatar.npy\")\n",
    "howtodraw = np.load(\"bridgetower\\\\feature_vectors\\\\story\\\\howtodraw.npy\")\n",
    "legacy = np.load(\"bridgetower\\\\feature_vectors\\\\story\\\\legacy.npy\")\n",
    "life = np.load(\"bridgetower\\\\feature_vectors\\\\story\\\\life.npy\")\n",
    "myfirstdaywiththeyankees = np.load(\"bridgetower\\\\feature_vectors\\\\story\\\\myfirstdaywiththeyankees.npy\")\n",
    "naked = np.load(\"bridgetower\\\\feature_vectors\\\\story\\\\naked.npy\")\n",
    "odetostepfather = np.load(\"bridgetower\\\\feature_vectors\\\\story\\\\odetostepfather.npy\")\n",
    "souls = np.load(\"bridgetower\\\\feature_vectors\\\\story\\\\souls.npy\")\n",
    "undertheinfluence = np.load(\"bridgetower\\\\feature_vectors\\\\story\\\\undertheinfluence.npy\")"
   ]
  }
 ],
 "metadata": {
  "kernelspec": {
   "display_name": "Python 3",
   "language": "python",
   "name": "python3"
  },
  "language_info": {
   "codemirror_mode": {
    "name": "ipython",
    "version": 3
   },
   "file_extension": ".py",
   "mimetype": "text/x-python",
   "name": "python",
   "nbconvert_exporter": "python",
   "pygments_lexer": "ipython3",
   "version": "3.11.7"
  }
 },
 "nbformat": 4,
 "nbformat_minor": 2
}
