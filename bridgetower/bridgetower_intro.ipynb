{
 "cells": [
  {
   "cell_type": "code",
   "execution_count": 1,
   "metadata": {},
   "outputs": [
    {
     "name": "stdout",
     "output_type": "stream",
     "text": [
      "WARNING:tensorflow:From c:\\Users\\Bridget Leonard\\AppData\\Local\\Programs\\Python\\Python311\\Lib\\site-packages\\keras\\src\\losses.py:2976: The name tf.losses.sparse_softmax_cross_entropy is deprecated. Please use tf.compat.v1.losses.sparse_softmax_cross_entropy instead.\n",
      "\n"
     ]
    },
    {
     "name": "stderr",
     "output_type": "stream",
     "text": [
      "c:\\Users\\Bridget Leonard\\AppData\\Local\\Programs\\Python\\Python311\\Lib\\site-packages\\tqdm\\auto.py:21: TqdmWarning: IProgress not found. Please update jupyter and ipywidgets. See https://ipywidgets.readthedocs.io/en/stable/user_install.html\n",
      "  from .autonotebook import tqdm as notebook_tqdm\n"
     ]
    }
   ],
   "source": [
    "import tensorflow\n",
    "from transformers import BridgeTowerProcessor\n",
    "import torch"
   ]
  },
  {
   "cell_type": "code",
   "execution_count": 3,
   "metadata": {},
   "outputs": [
    {
     "name": "stderr",
     "output_type": "stream",
     "text": [
      "pytorch_model.bin: 100%|██████████| 3.68G/3.68G [01:32<00:00, 39.9MB/s]\n",
      "c:\\Users\\Bridget Leonard\\AppData\\Local\\Programs\\Python\\Python311\\Lib\\site-packages\\huggingface_hub\\file_download.py:147: UserWarning: `huggingface_hub` cache-system uses symlinks by default to efficiently store duplicated files but your machine does not support them in C:\\Users\\Bridget Leonard\\.cache\\huggingface\\hub. Caching files will still work but in a degraded version that might require more space on your disk. This warning can be disabled by setting the `HF_HUB_DISABLE_SYMLINKS_WARNING` environment variable. For more details, see https://huggingface.co/docs/huggingface_hub/how-to-cache#limitations.\n",
      "To support symlinks on Windows, you either need to activate Developer Mode or to run Python as an administrator. In order to see activate developer mode, see this article: https://docs.microsoft.com/en-us/windows/apps/get-started/enable-your-device-for-development\n",
      "  warnings.warn(message)\n"
     ]
    }
   ],
   "source": [
    "# Load model directly\n",
    "from transformers import AutoModel\n",
    "model = AutoModel.from_pretrained(\"BridgeTower/bridgetower-large-itm-mlm-itc\")"
   ]
  },
  {
   "cell_type": "code",
   "execution_count": 13,
   "metadata": {},
   "outputs": [
    {
     "data": {
      "text/plain": [
       "BridgeTowerConfig {\n",
       "  \"_name_or_path\": \"BridgeTower/bridgetower-large-itm-mlm-itc\",\n",
       "  \"contrastive_hidden_size\": 512,\n",
       "  \"drop_rate\": 0.1,\n",
       "  \"head_hidden_scale\": 2,\n",
       "  \"hidden_act\": \"gelu\",\n",
       "  \"hidden_size\": 1024,\n",
       "  \"init_layernorm_from_vision_encoder\": false,\n",
       "  \"initializer_factor\": 1,\n",
       "  \"layer_norm_eps\": 1e-05,\n",
       "  \"link_tower_type\": \"add\",\n",
       "  \"logit_scale_init_value\": 2.6592,\n",
       "  \"model_type\": \"bridgetower\",\n",
       "  \"num_attention_heads\": 16,\n",
       "  \"num_hidden_layers\": 6,\n",
       "  \"share_cross_modal_transformer_layers\": true,\n",
       "  \"share_link_tower_layers\": false,\n",
       "  \"text_config\": {\n",
       "    \"architectures\": [\n",
       "      \"BridgeTowerTextModel\"\n",
       "    ],\n",
       "    \"classifier_dropout\": null,\n",
       "    \"hidden_size\": 1024,\n",
       "    \"initializer_range\": 0.02,\n",
       "    \"intermediate_size\": 4096,\n",
       "    \"model_type\": \"bridgetower_text_model\",\n",
       "    \"num_attention_heads\": 16,\n",
       "    \"num_hidden_layers\": 24\n",
       "  },\n",
       "  \"tie_word_embeddings\": false,\n",
       "  \"transformers_version\": \"4.35.2\",\n",
       "  \"vision_config\": {\n",
       "    \"architectures\": [\n",
       "      \"BridgeTowerVisionModel\"\n",
       "    ],\n",
       "    \"hidden_size\": 1024,\n",
       "    \"image_size\": 294,\n",
       "    \"model_type\": \"bridgetower_vision_model\",\n",
       "    \"num_hidden_layers\": 24,\n",
       "    \"patch_size\": 14\n",
       "  }\n",
       "}"
      ]
     },
     "execution_count": 13,
     "metadata": {},
     "output_type": "execute_result"
    }
   ],
   "source": [
    "model.config"
   ]
  },
  {
   "cell_type": "code",
   "execution_count": null,
   "metadata": {},
   "outputs": [],
   "source": []
  }
 ],
 "metadata": {
  "kernelspec": {
   "display_name": "tf_env",
   "language": "python",
   "name": "python3"
  },
  "language_info": {
   "codemirror_mode": {
    "name": "ipython",
    "version": 3
   },
   "file_extension": ".py",
   "mimetype": "text/x-python",
   "name": "python",
   "nbconvert_exporter": "python",
   "pygments_lexer": "ipython3",
   "version": "3.11.7"
  }
 },
 "nbformat": 4,
 "nbformat_minor": 2
}
