{
 "cells": [
  {
   "cell_type": "code",
   "execution_count": 2,
   "metadata": {},
   "outputs": [],
   "source": [
    "import numpy as np\n",
    "import os"
   ]
  },
  {
   "cell_type": "code",
   "execution_count": 3,
   "metadata": {},
   "outputs": [],
   "source": [
    "os.chdir(\"C:\\\\Users\\\\Bridget Leonard\\\\Desktop\\\\DNN_fMRI\")"
   ]
  },
  {
   "cell_type": "markdown",
   "metadata": {},
   "source": [
    "## Part 5: fMRI Prediction\n",
    "- project features into opposite modal space with feature alignment\n",
    "- predict fMRI activity using features"
   ]
  },
  {
   "cell_type": "markdown",
   "metadata": {},
   "source": [
    "### 1 Load feature alignment matrices\n",
    "These matrices were calculated in part 3. They represent the linear relationship between image and caption pairs. The image-->caption matrices were estimated by predicting each language feature from visual features, the caption--> image matrices were estimated by predicting each visual feature from the language features. Thus we have two matrices with size [768, 768] where each column represents a language or visual feature's linear relationship (beta coefficient) with each visual or language feature, respectively."
   ]
  },
  {
   "cell_type": "markdown",
   "metadata": {},
   "source": [
    "### 2 Load voxelwise encoding models\n",
    "These matrices were calculated in part 4."
   ]
  },
  {
   "cell_type": "code",
   "execution_count": 36,
   "metadata": {},
   "outputs": [
    {
     "name": "stdout",
     "output_type": "stream",
     "text": [
      "Number of voxels processed: 188\n",
      "Percentage of voxels processed: 0.23%\n"
     ]
    }
   ],
   "source": [
    "# Load alphas and coefficients from encoding models\n",
    "best_alphas = np.load(\"bridgetower\\\\data\\\\encoding_models\\\\movie\\\\best_alphas.npy\")\n",
    "coefficients = np.load(\"bridgetower\\\\data\\\\encoding_models\\\\movie\\\\coefficients.npy\")\n",
    "\n",
    "print(\"Number of voxels processed:\", np.count_nonzero(best_alphas))\n",
    "print(\"Percentage of voxels processed: \" + str(round((np.count_nonzero(best_alphas)/len(best_alphas))*100, 2)) + \"%\")"
   ]
  },
  {
   "cell_type": "markdown",
   "metadata": {},
   "source": [
    "For each voxel, we have two values:\n",
    "\n",
    "1) The best alpha value to capture the linear relationship between this voxel and each of the 4k stimulus features (using L2-regularized linear regression)\n",
    "\n",
    "2) A list of coefficients with length 4k (4*768 = 3072), giving us one slope for each of our features to show it's relation to the voxel's activity"
   ]
  },
  {
   "cell_type": "code",
   "execution_count": 33,
   "metadata": {},
   "outputs": [
    {
     "name": "stdout",
     "output_type": "stream",
     "text": [
      "Best alpha for our first voxel: 568986.6029018281\n",
      "Coefficients for the first 10 features for our first voxel: [-4.37023555e-05 -5.22303199e-05 -3.67861649e-05 -4.68999788e-05\n",
      "  1.05512063e-05  1.37947873e-05  9.39116580e-06  1.89230323e-05\n",
      " -2.84599628e-05 -4.94477354e-05]\n",
      "Number of coefficients for our first voxel: 3072\n"
     ]
    }
   ],
   "source": [
    "print(\"Best alpha for our first voxel:\", best_alphas[0])\n",
    "print(\"Coefficients for the first 10 features for our first voxel:\", coefficients[0][:10])\n",
    "print(\"Number of coefficients for our first voxel:\", len(coefficients[0]))"
   ]
  },
  {
   "cell_type": "code",
   "execution_count": null,
   "metadata": {},
   "outputs": [],
   "source": []
  }
 ],
 "metadata": {
  "kernelspec": {
   "display_name": "Python 3",
   "language": "python",
   "name": "python3"
  },
  "language_info": {
   "codemirror_mode": {
    "name": "ipython",
    "version": 3
   },
   "file_extension": ".py",
   "mimetype": "text/x-python",
   "name": "python",
   "nbconvert_exporter": "python",
   "pygments_lexer": "ipython3",
   "version": "3.11.7"
  }
 },
 "nbformat": 4,
 "nbformat_minor": 2
}
